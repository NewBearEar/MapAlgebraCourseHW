{
 "cells": [
  {
   "cell_type": "code",
   "execution_count": 2,
   "id": "92710d97",
   "metadata": {},
   "outputs": [],
   "source": [
    "from osgeo import gdal,ogr,osr\n",
    "from gdal import gdalconst\n",
    "\n",
    "# 需要注意field，all_touch这些option的值必须为字符串\n",
    "def vector2raster(inputfilePath, outputfile, templatefile,bands=[1],burn_values=[0],field=\"\",all_touch=\"False\"):\n",
    "    # 输入矢量文件\n",
    "    inputfilePath = inputfilePath\n",
    "    # 输出栅格文件\n",
    "    outputfile = outputfile\n",
    "    # 栅格模板文件，确定输出栅格的元数据（坐标系等，栅格大小，范围等）\n",
    "    templatefile = templatefile\n",
    "    # 打开栅格模板文件\n",
    "    data = gdal.Open(templatefile, gdalconst.GA_ReadOnly)\n",
    "    # 确定栅格大小\n",
    "    x_res = data.RasterXSize\n",
    "    y_res = data.RasterYSize\n",
    "    # 打开矢量文件\n",
    "    vector = ogr.Open(inputfilePath)\n",
    "    # 获取矢量图层\n",
    "    layer = vector.GetLayer()\n",
    "    # 查看要素数量\n",
    "    featureCount = layer.GetFeatureCount()\n",
    "    # print(featureCount)\n",
    "\n",
    "    # 创建输出的TIFF栅格文件\n",
    "    targetDataset = gdal.GetDriverByName('GTiff').Create(outputfile, x_res, y_res, 1, gdal.GDT_Byte)\n",
    "    # 设置栅格坐标系与投影\n",
    "    targetDataset.SetGeoTransform(data.GetGeoTransform())\n",
    "    targetDataset.SetProjection(data.GetProjection())\n",
    "    # 目标band 1\n",
    "    band = targetDataset.GetRasterBand(1)\n",
    "    # 白色背景\n",
    "    #NoData_value = -999\n",
    "    NoData_value = 255\n",
    "    band.SetNoDataValue(NoData_value)\n",
    "    band.FlushCache()\n",
    "    if field:\n",
    "        # 调用栅格化函数。RasterizeLayer函数有四个参数，分别有栅格对象，波段，矢量对象，options\n",
    "        # options可以有多个属性，其中ATTRIBUTE属性将矢量图层的某字段属性值作为转换后的栅格值\n",
    "        gdal.RasterizeLayer(targetDataset, bands,layer, burn_values=burn_values,options=[\"ALL_TOUCHED=\"+all_touch,\"ATTRIBUTE=\"+field])\n",
    "    else:\n",
    "        gdal.RasterizeLayer(targetDataset, bands,layer, burn_values=burn_values,options=[\"ALL_TOUCHED=\"+all_touch])\n"
   ]
  },
  {
   "cell_type": "code",
   "execution_count": 4,
   "id": "241a3d63",
   "metadata": {},
   "outputs": [
    {
     "name": "stdout",
     "output_type": "stream",
     "text": [
      "790\n"
     ]
    }
   ],
   "source": [
    "#inputpath= r\"D:\\硕士作业\\地图代数概论\\data\\武汉大学地图数据\\gym_use.shp\"\n",
    "inputpath= r\"D:\\硕士作业\\地图代数概论\\data\\武汉大学地图数据\\道路路网.shp\"\n",
    "#inputpath = r\"D:\\硕士作业\\地图代数概论\\data\\武汉大学地图数据\\WHU_academy_ptWithId.shp\"\n",
    "#inputpath = r\"D:\\硕士作业\\地图代数概论\\data\\WHUPOI\\WHU_academy.shp\"\n",
    "#outputpath = r\"./raster_gym.tiff\"\n",
    "outputpath = r\"./实验路网notouch.tiff\"\n",
    "# mask确定栅格范围，转换后的坐标系及投影\n",
    "maskpath = r\"D:\\硕士作业\\地图代数概论\\data\\武汉大学地图数据\\道路_mask23.tif\"\n",
    "#bands = [1]\n",
    "vector2raster(inputpath,outputpath,maskpath,field=\"\",all_touch=\"False\")\n"
   ]
  },
  {
   "cell_type": "code",
   "execution_count": null,
   "id": "9c539a78",
   "metadata": {},
   "outputs": [],
   "source": []
  }
 ],
 "metadata": {
  "kernelspec": {
   "display_name": "Python 3",
   "language": "python",
   "name": "python3"
  },
  "language_info": {
   "codemirror_mode": {
    "name": "ipython",
    "version": 3
   },
   "file_extension": ".py",
   "mimetype": "text/x-python",
   "name": "python",
   "nbconvert_exporter": "python",
   "pygments_lexer": "ipython3",
   "version": "3.7.11"
  }
 },
 "nbformat": 4,
 "nbformat_minor": 5
}
